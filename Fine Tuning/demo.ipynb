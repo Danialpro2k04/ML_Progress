{
 "cells": [
  {
   "cell_type": "code",
   "execution_count": null,
   "id": "282d1665",
   "metadata": {
    "vscode": {
     "languageId": "plaintext"
    }
   },
   "outputs": [],
   "source": [
    "import pandas as pd"
   ]
  }
 ],
 "metadata": {
  "language_info": {
   "name": "python"
  }
 },
 "nbformat": 4,
 "nbformat_minor": 5
}
